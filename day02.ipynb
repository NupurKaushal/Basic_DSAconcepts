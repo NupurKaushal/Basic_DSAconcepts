{
 "cells": [
  {
   "cell_type": "code",
   "execution_count": 3,
   "metadata": {},
   "outputs": [
    {
     "name": "stdout",
     "output_type": "stream",
     "text": [
      "Payal\n"
     ]
    }
   ],
   "source": [
    "print(\"Payal\")"
   ]
  },
  {
   "cell_type": "code",
   "execution_count": 59,
   "metadata": {},
   "outputs": [],
   "source": [
    "v={\"Raju\":{\"Maths\":67,\"Physics\":78,\"Chemistry\":90},\n",
    "  \"Ramu\":{\"Maths\":56,\"Physics\":87,\"Chemistry\":29},\n",
    "\"Sara\":{\"Maths\":85,\"Physics\":72,\"Chemistry\":92}}\n"
   ]
  },
  {
   "cell_type": "code",
   "execution_count": 60,
   "metadata": {},
   "outputs": [
    {
     "name": "stdout",
     "output_type": "stream",
     "text": [
      "Raju\n",
      "-------\n",
      "Toal Marks= 235\n",
      "Ramu\n",
      "-------\n",
      "Toal Marks= 172\n",
      "Sara\n",
      "-------\n",
      "Toal Marks= 249\n"
     ]
    }
   ],
   "source": [
    "for p in v.keys():\n",
    "    print(p)\n",
    "    print(\"-------\")\n",
    "    ans =0\n",
    "    for q in v[p].values():\n",
    "        ans += q\n",
    "    print(\"Toal Marks=\",ans)\n",
    "        "
   ]
  },
  {
   "cell_type": "code",
   "execution_count": 63,
   "metadata": {},
   "outputs": [],
   "source": [
    "n = int(input(\"enter\"))\n",
    "s={}\n",
    "for i in range(n):\n",
    "    key,value=map(str,input().split())\n",
    "    s.update({key:value})\n",
    "    "
   ]
  },
  {
   "cell_type": "code",
   "execution_count": null,
   "metadata": {},
   "outputs": [
    {
     "data": {
      "text/plain": [
       "{'annu': '1', 'payal': '4'}"
      ]
     },
     "execution_count": 11,
     "metadata": {},
     "output_type": "execute_result"
    }
   ],
   "source": [
    "s"
   ]
  },
  {
   "cell_type": "code",
   "execution_count": 13,
   "metadata": {},
   "outputs": [
    {
     "name": "stdout",
     "output_type": "stream",
     "text": [
      "annu 1\n",
      "payal 4\n"
     ]
    }
   ],
   "source": [
    "for p,q in s.items():\n",
    "    print(p,q)"
   ]
  },
  {
   "cell_type": "code",
   "execution_count": 17,
   "metadata": {},
   "outputs": [
    {
     "name": "stdout",
     "output_type": "stream",
     "text": [
      "<zip object at 0x000001BB4DD76580>\n"
     ]
    },
    {
     "data": {
      "text/plain": [
       "{'a': 1, 'b': 2, 'c': 3, 'd': 4}"
      ]
     },
     "execution_count": 17,
     "metadata": {},
     "output_type": "execute_result"
    }
   ],
   "source": [
    "#to convert list in dict\n",
    "list=['a','b','c','d']\n",
    "list2=[1,2,3,4]\n",
    "z= zip(list,list2)\n",
    "print(z)\n",
    "dict(z)\n",
    "\n"
   ]
  },
  {
   "cell_type": "code",
   "execution_count": 25,
   "metadata": {},
   "outputs": [
    {
     "name": "stdout",
     "output_type": "stream",
     "text": [
      "{10: 2, 20: 2, 30: 1, 40: 1, 50: 1}\n",
      "30\n",
      "40\n",
      "50\n",
      "10\n",
      "20\n"
     ]
    }
   ],
   "source": [
    "dict ={}\n",
    "l=[10,20,30,40,50,10,20]\n",
    "for i in l:\n",
    "    if i not in dict:\n",
    "        dict[i]=1\n",
    "    else:\n",
    "        dict[i]+=1\n",
    "print(dict)\n",
    "for i,j in dict.items():\n",
    "    if j==1:\n",
    "        print(i)\n",
    "for i,j in dict.items():\n",
    "    if j>1:\n",
    "        print(i)"
   ]
  },
  {
   "cell_type": "code",
   "execution_count": 29,
   "metadata": {},
   "outputs": [
    {
     "data": {
      "text/plain": [
       "[9, 8, 7]"
      ]
     },
     "execution_count": 29,
     "metadata": {},
     "output_type": "execute_result"
    }
   ],
   "source": [
    "l = [0,1,2,3,4,5,6,7,8,9,10]\n",
    "l[-1:-9:-2]\n",
    "l[2:-2]\n",
    "l[-2:-5]"
   ]
  },
  {
   "cell_type": "code",
   "execution_count": 30,
   "metadata": {},
   "outputs": [
    {
     "data": {
      "text/plain": [
       "[2, 3, 4, 5, 6, 7, 8]"
      ]
     },
     "execution_count": 30,
     "metadata": {},
     "output_type": "execute_result"
    }
   ],
   "source": [
    "l[2:-2]\n"
   ]
  },
  {
   "cell_type": "code",
   "execution_count": 36,
   "metadata": {},
   "outputs": [
    {
     "name": "stdout",
     "output_type": "stream",
     "text": [
      "[[1, 2, 3], [4, 5, 6], [7, 8, 9]]\n",
      "1 2 3 \n",
      "4 5 6 \n",
      "7 8 9 \n"
     ]
    }
   ],
   "source": [
    "#create 3 *3 matrix print on console\n",
    "s= [[1,2,3],[4,5,6],[7,8,9]]\n",
    "print(s)\n",
    "for i in range(3):\n",
    "    for j in range(3):\n",
    "        print(s[i][j],end=\" \")\n",
    "    print()"
   ]
  },
  {
   "cell_type": "code",
   "execution_count": 40,
   "metadata": {},
   "outputs": [
    {
     "name": "stdout",
     "output_type": "stream",
     "text": [
      "[[1, 2, 3], [4, 5, 6], [7, 8, 9]]\n",
      "6\n",
      "\n",
      "15\n",
      "\n",
      "24\n",
      "\n"
     ]
    }
   ],
   "source": [
    "#sum of row element\n",
    "s= [[1,2,3],[4,5,6],[7,8,9]]\n",
    "print(s)\n",
    "for i in range(3):\n",
    "    sum =0\n",
    "    for j in range(3):\n",
    "        sum += s[i][j]\n",
    "    print(sum)\n",
    "    print()"
   ]
  },
  {
   "cell_type": "code",
   "execution_count": 42,
   "metadata": {},
   "outputs": [
    {
     "name": "stdout",
     "output_type": "stream",
     "text": [
      "[[1, 2, 3], [4, 5, 6], [7, 8, 9]]\n",
      "12\n",
      "\n",
      "15\n",
      "\n",
      "18\n",
      "\n"
     ]
    }
   ],
   "source": [
    "s= [[1,2,3],[4,5,6],[7,8,9]]\n",
    "print(s)\n",
    "for i in range(3):\n",
    "    sum =0\n",
    "    for j in range(3):\n",
    "        sum += s[j][i]\n",
    "    print(sum)\n",
    "    print()"
   ]
  },
  {
   "attachments": {},
   "cell_type": "markdown",
   "metadata": {},
   "source": [
    "Hi I am Nupur and I am good girl"
   ]
  },
  {
   "cell_type": "code",
   "execution_count": 43,
   "metadata": {},
   "outputs": [
    {
     "name": "stdout",
     "output_type": "stream",
     "text": [
      "[[1, 2, 3], [4, 5, 6], [7, 8, 9]]\n",
      "15\n"
     ]
    }
   ],
   "source": [
    " #find sum of diagonal elements\n",
    "s= [[1,2,3],[4,5,6],[7,8,9]]\n",
    "print(s)\n",
    "sum=0\n",
    "for i in range(3):\n",
    "    sum+=s[i][i]\n",
    "print(sum)"
   ]
  },
  {
   "cell_type": "code",
   "execution_count": 46,
   "metadata": {},
   "outputs": [
    {
     "name": "stdout",
     "output_type": "stream",
     "text": [
      "[[4, 4], [3, 4]]\n"
     ]
    }
   ],
   "source": [
    "#program to read nested list elements from user\n",
    "#2 * 2 matrix\n",
    "l=[]\n",
    "for i in range(2):\n",
    "    row =[]\n",
    "    for j in range(2):\n",
    "        r = int(input(\"enter\"))\n",
    "        row.append(r)\n",
    "    l.append(row)\n",
    "print(l)"
   ]
  },
  {
   "cell_type": "code",
   "execution_count": 50,
   "metadata": {},
   "outputs": [
    {
     "name": "stdout",
     "output_type": "stream",
     "text": [
      "[[6, 8], [10, 12]]\n"
     ]
    }
   ],
   "source": [
    "#sum of two matrices\n",
    "s = [[1,2],[3,4]]\n",
    "z = [[5,6],[7,8]]\n",
    "d = [[0,0],[0,0]]\n",
    "for i in range(2):\n",
    "    for j in range(2):\n",
    "        d[i][j]= s[i][j] + z[i][j]\n",
    "\n",
    "print(d)"
   ]
  },
  {
   "cell_type": "code",
   "execution_count": 2,
   "metadata": {},
   "outputs": [
    {
     "name": "stdout",
     "output_type": "stream",
     "text": [
      "[[14, 16], [28, 32]]\n"
     ]
    }
   ],
   "source": [
    "#multiplication of two matrices\n",
    "s = [[1,2],[3,4]]\n",
    "z = [[5,6],[7,8]]\n",
    "d = [[0,0],[0,0]]\n",
    "for i in range(2):\n",
    "    for j in range(2):\n",
    "        for k in range(2):\n",
    "            d[i][j] =  (s[i][k]* z[k][j])\n",
    "print(d)"
   ]
  },
  {
   "cell_type": "code",
   "execution_count": 7,
   "metadata": {},
   "outputs": [
    {
     "name": "stdout",
     "output_type": "stream",
     "text": [
      "[[5, 6], [7, 8]]\n"
     ]
    }
   ],
   "source": [
    "#transpose of mat\n",
    "z = [[5,6],[7,8]]\n",
    "d = [[0,0],[0,0]]\n",
    "for i in range(2):\n",
    "    for j in range(2):\n",
    "        d[j][i] == z[i][j]\n",
    "\n",
    "print(z)"
   ]
  },
  {
   "cell_type": "code",
   "execution_count": null,
   "metadata": {},
   "outputs": [],
   "source": [
    "#set\n",
    "s={}\n",
    "print(type(s))\n",
    "s = {1,2,3,1,2}\n"
   ]
  },
  {
   "cell_type": "code",
   "execution_count": 62,
   "metadata": {},
   "outputs": [
    {
     "ename": "AttributeError",
     "evalue": "'list' object has no attribute 'union'",
     "output_type": "error",
     "traceback": [
      "\u001b[1;31m---------------------------------------------------------------------------\u001b[0m",
      "\u001b[1;31mAttributeError\u001b[0m                            Traceback (most recent call last)",
      "Cell \u001b[1;32mIn[62], line 2\u001b[0m\n\u001b[0;32m      1\u001b[0m r \u001b[39m=\u001b[39m {\u001b[39m4\u001b[39m,\u001b[39m5\u001b[39m,\u001b[39m6\u001b[39m,\u001b[39m7\u001b[39m,\u001b[39m8\u001b[39m}\n\u001b[1;32m----> 2\u001b[0m s\u001b[39m.\u001b[39;49munion(r)\n\u001b[0;32m      3\u001b[0m s\u001b[39m.\u001b[39mintersection(r)\n\u001b[0;32m      4\u001b[0m s\u001b[39m^\u001b[39mr\n",
      "\u001b[1;31mAttributeError\u001b[0m: 'list' object has no attribute 'union'"
     ]
    }
   ],
   "source": [
    "r = {4,5,6,7,8}\n",
    "s.union(r)\n",
    "s.intersection(r)\n",
    "s^r\n",
    "s.issuperset(r)\n",
    "s-r\n",
    "r-s\n",
    "r.issubset(s)\n",
    "s.isdisjoint(r)\n"
   ]
  },
  {
   "cell_type": "code",
   "execution_count": null,
   "metadata": {},
   "outputs": [],
   "source": [
    "s =[\"krishna\",'saritha','ramu','rani','sravani','shirisha']\n"
   ]
  },
  {
   "cell_type": "code",
   "execution_count": 8,
   "metadata": {},
   "outputs": [
    {
     "name": "stdout",
     "output_type": "stream",
     "text": [
      "[5, 9, 1, 4, 3, 6, 2]\n",
      "[5, 1, 9, 4, 3, 6, 2]\n",
      "[5, 1, 4, 9, 3, 6, 2]\n",
      "[5, 1, 4, 3, 9, 6, 2]\n",
      "[5, 1, 4, 3, 6, 9, 2]\n",
      "[5, 1, 4, 3, 6, 2, 9]\n",
      "output: [5, 1, 4, 3, 6, 2, 9]\n",
      "[1, 5, 4, 3, 6, 2, 9]\n",
      "[1, 4, 5, 3, 6, 2, 9]\n",
      "[1, 4, 3, 5, 6, 2, 9]\n",
      "[1, 4, 3, 5, 2, 6, 9]\n",
      "output: [1, 4, 3, 5, 2, 6, 9]\n",
      "[1, 3, 4, 5, 2, 6, 9]\n",
      "[1, 3, 4, 2, 5, 6, 9]\n",
      "output: [1, 3, 4, 2, 5, 6, 9]\n",
      "[1, 3, 2, 4, 5, 6, 9]\n",
      "output: [1, 3, 2, 4, 5, 6, 9]\n",
      "[1, 2, 3, 4, 5, 6, 9]\n",
      "output: [1, 2, 3, 4, 5, 6, 9]\n",
      "output: [1, 2, 3, 4, 5, 6, 9]\n",
      "[1, 2, 3, 4, 5, 6, 9]\n"
     ]
    }
   ],
   "source": [
    "#bubble sort\n",
    "a = [9,5,1,4,3,6,2]\n",
    "for i in range(len(a)-1):\n",
    "    for j in range(len(a)-1-i):\n",
    "        if a[j] > a[j+1]:\n",
    "            temp = a[j]\n",
    "            a[j] = a[j+1]\n",
    "            a[j+1] = temp\n",
    "            print(a)\n",
    "    print(\"output:\",a)\n",
    "print(a)\n"
   ]
  },
  {
   "cell_type": "code",
   "execution_count": 14,
   "metadata": {},
   "outputs": [
    {
     "name": "stdout",
     "output_type": "stream",
     "text": [
      "unsortedlist: [4, 2, 1, 5, 7, 6, 3]\n",
      "Sorted_list: [2, 1, 4, 5, 7, 6, 3]\n"
     ]
    }
   ],
   "source": [
    "def bubble_sort(l):\n",
    "    for i in range(len(l)-1):\n",
    "        for j in range(len(l)-1-i):\n",
    "            if(l[i]>l[j+1]):\n",
    "                l[j],l[j+1] = l[j+1],l[j]\n",
    "\n",
    "        return l\n",
    "l = [4,2,1,5,7,6,3]\n",
    "print(\"unsortedlist:\",l)\n",
    "r = bubble_sort(l)\n",
    "print(\"Sorted_list:\",r)"
   ]
  },
  {
   "cell_type": "code",
   "execution_count": 20,
   "metadata": {},
   "outputs": [
    {
     "name": "stdout",
     "output_type": "stream",
     "text": [
      "[1, 2, 3, 4, 5, 7]\n"
     ]
    }
   ],
   "source": [
    "#selection sort\n",
    "#finding minimum\n",
    "def SelectionSort(array, size):\n",
    "    for ind in range(size):\n",
    "        min_index =  ind\n",
    "        for j in range(ind + 1, size):\n",
    "            if array[j] < array[min_index]:\n",
    "                min_index = j\n",
    "        (array[ind],array[min_index]) = (array[min_index], array[ind])\n",
    "\n",
    "arr = [3,1,5,7,4,2]\n",
    "size = len(arr)\n",
    "SelectionSort(arr, size)\n",
    "print(arr)"
   ]
  },
  {
   "cell_type": "code",
   "execution_count": 30,
   "metadata": {},
   "outputs": [
    {
     "name": "stdout",
     "output_type": "stream",
     "text": [
      "[1, 2, 3, 4, 5]\n"
     ]
    }
   ],
   "source": [
    "a= [5,4,3,2,1]\n",
    "for i in range(len(a)):\n",
    "    min_index = i\n",
    "    for j in range(i+1,len(a)):\n",
    "        if a[j]< a[min_index]:\n",
    "            min_index = j\n",
    "    a[i],a[min_index] = a[min_index],a[i]\n",
    "\n",
    "print(a)    "
   ]
  },
  {
   "cell_type": "code",
   "execution_count": 35,
   "metadata": {},
   "outputs": [
    {
     "name": "stdout",
     "output_type": "stream",
     "text": [
      "0\n",
      "1\n",
      "2\n",
      "3\n"
     ]
    }
   ],
   "source": [
    "a= [5,4,3,2,1]\n",
    "for i in range(0,len(a)-1,+1):\n",
    "    print(i)"
   ]
  },
  {
   "cell_type": "code",
   "execution_count": 2,
   "metadata": {},
   "outputs": [
    {
     "name": "stdout",
     "output_type": "stream",
     "text": [
      "[1, 2, 3, 4, 5]\n"
     ]
    }
   ],
   "source": [
    "#insertion sort\n",
    "a = [5,4,3,2,1]\n",
    "for i in range(1,len(a)):\n",
    "    key = a[i]\n",
    "    j= i -1\n",
    "\n",
    "    while j>=0 and key <a[j]:\n",
    "        a[j+1] = a[j]\n",
    "        j -= 1\n",
    "    a[j+1] = key\n",
    "print(a)"
   ]
  },
  {
   "cell_type": "code",
   "execution_count": 1,
   "metadata": {},
   "outputs": [
    {
     "name": "stdout",
     "output_type": "stream",
     "text": [
      "[1, 1, 4, 4, 4, 4, 3, 3, 3, 5, 5]\n",
      "[4, 4, 4, 4, 3, 3, 3, 1, 1, 5, 5]\n"
     ]
    }
   ],
   "source": [
    "#frequency sort\n",
    "s=[1,1,4,4,4,4,3,3,3,5,5]\n",
    "print(s)\n",
    "r = sorted(s,key=s.count,reverse = True)\n",
    "print(r)"
   ]
  },
  {
   "cell_type": "code",
   "execution_count": null,
   "metadata": {},
   "outputs": [],
   "source": [
    "a = [5,4,3,2,1]\n",
    "for i in "
   ]
  },
  {
   "cell_type": "code",
   "execution_count": 55,
   "metadata": {},
   "outputs": [
    {
     "name": "stdout",
     "output_type": "stream",
     "text": [
      "[0, 1, 2, 3, 4, 5, 6, 7]\n"
     ]
    }
   ],
   "source": [
    "#merge sort\n",
    "def merge_sort(array):\n",
    "  if len(array) <= 1:\n",
    "    return array\n",
    "\n",
    "  middle = len(array) // 2\n",
    "  left = merge_sort(array[:middle])\n",
    "  right = merge_sort(array[middle:])\n",
    "\n",
    "  return merge(left, right)\n",
    "\n",
    "\n",
    "def merge(left, right):\n",
    "\n",
    "  merged = []\n",
    "  i = 0\n",
    "  j = 0\n",
    "  while i < len(left) and j < len(right):\n",
    "    if left[i] <= right[j]:\n",
    "      merged.append(left[i])\n",
    "      i += 1\n",
    "    else:\n",
    "      merged.append(right[j])\n",
    "      j += 1\n",
    "\n",
    "  merged += left[i:]\n",
    "  merged += right[j:]\n",
    "\n",
    "  return merged\n",
    "\n",
    "\n",
    "def main():\n",
    "\n",
    "  array = [1, 5, 3, 2, 4, 6, 7, 0]\n",
    "  sorted_array = merge_sort(array)\n",
    "  print(sorted_array)\n",
    "\n",
    "\n",
    "if __name__ == \"__main__\":\n",
    "  main()\n"
   ]
  },
  {
   "cell_type": "code",
   "execution_count": null,
   "metadata": {},
   "outputs": [],
   "source": [
    "stringList = ['ab', 'abc', 'ab']\n",
    "queries = ['ab','abc','bc']\n",
    "a=[]\n",
    "for i in queries:\n",
    "    a.append(stringList.count(i))\n",
    "print(a)"
   ]
  },
  {
   "cell_type": "code",
   "execution_count": 1,
   "metadata": {},
   "outputs": [
    {
     "ename": "ValueError",
     "evalue": "invalid literal for int() with base 10: ''",
     "output_type": "error",
     "traceback": [
      "\u001b[1;31m---------------------------------------------------------------------------\u001b[0m",
      "\u001b[1;31mValueError\u001b[0m                                Traceback (most recent call last)",
      "Cell \u001b[1;32mIn[1], line 1\u001b[0m\n\u001b[1;32m----> 1\u001b[0m n\u001b[39m=\u001b[39m\u001b[39mint\u001b[39;49m(\u001b[39minput\u001b[39;49m())\n\u001b[0;32m      2\u001b[0m s\u001b[39m=\u001b[39m[]\n\u001b[0;32m      3\u001b[0m size \u001b[39m=\u001b[39m \u001b[39mlen\u001b[39m(s)\n",
      "\u001b[1;31mValueError\u001b[0m: invalid literal for int() with base 10: ''"
     ]
    }
   ],
   "source": [
    "n=int(input())\n",
    "s=[]\n",
    "size = len(s)\n",
    "for i in s:\n",
    "    s.append(i)\n",
    "    for j in s:\n",
    "        s.pop()\n",
    "    print(s)"
   ]
  },
  {
   "cell_type": "code",
   "execution_count": 1,
   "metadata": {},
   "outputs": [],
   "source": [
    "size = 4\n",
    "top= -1\n",
    "if(top < size -1):\n",
    "    top = top +1\n",
    "    q = int(input(\"enter value\"))\n",
    "else:\n",
    "    print(\"stack overflow\")"
   ]
  },
  {
   "cell_type": "code",
   "execution_count": 10,
   "metadata": {},
   "outputs": [
    {
     "name": "stdout",
     "output_type": "stream",
     "text": [
      "1  is pushedd into the stack\n",
      "2  is pushedd into the stack\n",
      "3  is pushedd into the stack\n",
      "4  is pushedd into the stack\n",
      "stack overflow\n",
      "4  is poped from the stack\n",
      "3  is poped from the stack\n",
      "2  is poped from the stack\n",
      "1  is poped from the stack\n",
      "stack underflow\n"
     ]
    }
   ],
   "source": [
    "a=[]\n",
    "size = 4\n",
    "top =-1\n",
    "\n",
    "def isEmpty():\n",
    "    return top!=size-1\n",
    "\n",
    "def push(ele):\n",
    "    global top\n",
    "    if isEmpty():\n",
    "        top+=1\n",
    "        a.append(ele)\n",
    "        print(ele, \" is pushedd into the stack\")\n",
    "    else:\n",
    "        print(\"stack overflow\")\n",
    "\n",
    "def pop():\n",
    "    global top\n",
    "    if top == -1:\n",
    "        print(\"stack underflow\") \n",
    "    else:\n",
    "        x=a.pop()\n",
    "        top-=1\n",
    "        print(x, \" is poped from the stack\")\n",
    "        \n",
    "\n",
    "push(1)\n",
    "push(2)\n",
    "push(3)\n",
    "push(4)\n",
    "push(5)\n",
    "pop()\n",
    "pop()\n",
    "pop()\n",
    "pop()\n",
    "pop()\n",
    "    "
   ]
  },
  {
   "cell_type": "code",
   "execution_count": 12,
   "metadata": {},
   "outputs": [
    {
     "name": "stdout",
     "output_type": "stream",
     "text": [
      "1  is pushedd into the stack\n",
      "2  is pushedd into the stack\n",
      "3  is pushedd into the stack\n",
      "4  is pushedd into the stack\n",
      "stack overflow\n",
      "4  is poped from the stack\n",
      "3  is poped from the stack\n",
      "2  is poped from the stack\n",
      "1  is poped from the stack\n",
      "stack underflow\n",
      "[]\n",
      "please enter valid input\n"
     ]
    }
   ],
   "source": [
    "while True:\n",
    "    n=input(\"Operation\")\n",
    "    if n=='push':\n",
    "        m=int(input(\"Enter no.\"))\n",
    "        push(m)\n",
    "\n",
    "    elif n=='pop':\n",
    "        pop()\n",
    "\n",
    "    elif n=='display':\n",
    "        print(a)\n",
    "\n",
    "    elif n=='exit':\n",
    "        break\n",
    "\n",
    "    else:\n",
    "        print(\"please enter valid input\")"
   ]
  },
  {
   "cell_type": "code",
   "execution_count": null,
   "metadata": {},
   "outputs": [],
   "source": [
    "#stack implementation\n",
    "size = 4\n",
    "top = -1\n",
    "a =[]\n",
    "print(\"stack operation\")\n",
    "while(True):\n",
    "    print(\"1.push,2.pop,3.display,4.exit\")\n",
    "    opt=int(input(\"enter option:\"))\n",
    "    if(opt ==1):\n",
    "        if(top<size-1):\n",
    "            top = top+1\n",
    "            q=int(input(\"enter value:\"))\n",
    "        else:\n",
    "            print(\"stack is overflow\")\n",
    "\n",
    "    elif()\n",
    "            "
   ]
  },
  {
   "cell_type": "code",
   "execution_count": null,
   "metadata": {},
   "outputs": [],
   "source": [
    "size = 4\n",
    "top = -1\n",
    "a = []"
   ]
  },
  {
   "cell_type": "code",
   "execution_count": 13,
   "metadata": {},
   "outputs": [
    {
     "name": "stdout",
     "output_type": "stream",
     "text": [
      "deque([10, 20, 30, 40])\n",
      "deque([])\n"
     ]
    }
   ],
   "source": [
    "from collections import deque\n",
    "stack = deque()\n",
    "stack.append(10)\n",
    "stack.append(20)\n",
    "stack.append(30)\n",
    "stack.append(40)\n",
    "print(stack)\n",
    "stack.pop()\n",
    "stack.pop()\n",
    "stack.pop()\n",
    "stack.pop()\n",
    "print(stack)"
   ]
  },
  {
   "cell_type": "code",
   "execution_count": 14,
   "metadata": {},
   "outputs": [
    {
     "name": "stdout",
     "output_type": "stream",
     "text": [
      "deque(['nupur', 'mitali', 'anurag', 'ritik'])\n",
      "deque([])\n"
     ]
    }
   ],
   "source": [
    "from collections import deque\n",
    "stack = deque()\n",
    "stack.append('nupur')\n",
    "stack.append('mitali')\n",
    "stack.append('anurag')\n",
    "stack.append('ritik')\n",
    "print(stack)\n",
    "stack.pop()\n",
    "stack.pop()\n",
    "stack.pop()\n",
    "stack.pop()\n",
    "print(stack)"
   ]
  },
  {
   "cell_type": "code",
   "execution_count": 2,
   "metadata": {},
   "outputs": [],
   "source": [
    "a=[]\n",
    "size = 4\n",
    "top =-1\n",
    "\n",
    "def isEmpty():\n",
    "    return top!=size-1\n",
    "\n",
    "def push(ele):\n",
    "    global top\n",
    "    if isEmpty():\n",
    "        top+=1\n",
    "        a.append(ele)\n",
    "        print(ele, \" is pushedd into the queue\")\n",
    "    else:\n",
    "        print(\"queue overflow\")\n",
    "\n",
    "def pop():\n",
    "    global top\n",
    "    if top == -1:\n",
    "        print(\"queue underflow\") \n",
    "    else:\n",
    "        x=a.pop(0)\n",
    "        top-=1\n",
    "        print(x, \" is poped from the queue\")\n",
    "        "
   ]
  },
  {
   "cell_type": "code",
   "execution_count": 3,
   "metadata": {},
   "outputs": [
    {
     "name": "stdout",
     "output_type": "stream",
     "text": [
      "1  is pushedd into the queue\n",
      "2  is pushedd into the queue\n",
      "3  is pushedd into the queue\n",
      "4  is pushedd into the queue\n",
      "queue overflow\n",
      "1  is poped from the queue\n",
      "2  is poped from the queue\n",
      "3  is poped from the queue\n",
      "4  is poped from the queue\n",
      "queue underflow\n"
     ]
    }
   ],
   "source": [
    "while True:\n",
    "    n=input(\"Operation\")\n",
    "    if n=='push':\n",
    "        m=int(input(\"Enter no.\"))\n",
    "        push(m)\n",
    "\n",
    "    elif n=='pop':\n",
    "        pop()\n",
    "\n",
    "    elif n=='display':\n",
    "        print(a)\n",
    "\n",
    "    elif n=='exit':\n",
    "        break\n",
    "\n",
    "    else:\n",
    "        print(\"please enter valid input\")"
   ]
  },
  {
   "cell_type": "code",
   "execution_count": null,
   "metadata": {},
   "outputs": [],
   "source": []
  },
  {
   "cell_type": "code",
   "execution_count": 17,
   "metadata": {},
   "outputs": [
    {
     "data": {
      "text/plain": [
       "<function list.count(value, /)>"
      ]
     },
     "execution_count": 17,
     "metadata": {},
     "output_type": "execute_result"
    }
   ],
   "source": [
    "from collections import deque\n",
    "a=[1,2,3,4,5,6,2,3,1,6,7,8,9]\n",
    "d=a.count\n",
    "d"
   ]
  },
  {
   "cell_type": "code",
   "execution_count": 1,
   "metadata": {},
   "outputs": [
    {
     "name": "stdout",
     "output_type": "stream",
     "text": [
      "deque([10, 20, 30, 40])\n",
      "deque([])\n"
     ]
    }
   ],
   "source": [
    "#Implement of queue using deque\n",
    "from collections import deque\n",
    "queue= deque()\n",
    "queue.append(10)\n",
    "queue.append(20)\n",
    "queue.append(30)\n",
    "queue.append(40)\n",
    "print(queue)\n",
    "queue.popleft()\n",
    "queue.popleft()\n",
    "queue.popleft()\n",
    "queue.popleft()\n",
    "print(queue)"
   ]
  },
  {
   "cell_type": "code",
   "execution_count": 3,
   "metadata": {},
   "outputs": [
    {
     "data": {
      "text/plain": [
       "5"
      ]
     },
     "execution_count": 3,
     "metadata": {},
     "output_type": "execute_result"
    }
   ],
   "source": [
    "#write a program to perform various arithmetic \n",
    "#operations like add, sub, mul in a single function using lambda\n",
    "a = lambda x,y:x+y\n",
    "a(2,3)"
   ]
  },
  {
   "cell_type": "code",
   "execution_count": 4,
   "metadata": {},
   "outputs": [
    {
     "data": {
      "text/plain": [
       "6"
      ]
     },
     "execution_count": 4,
     "metadata": {},
     "output_type": "execute_result"
    }
   ],
   "source": [
    "a = lambda x,y:x*y\n",
    "a(2,3)"
   ]
  },
  {
   "cell_type": "code",
   "execution_count": 5,
   "metadata": {},
   "outputs": [
    {
     "data": {
      "text/plain": [
       "0.6666666666666666"
      ]
     },
     "execution_count": 5,
     "metadata": {},
     "output_type": "execute_result"
    }
   ],
   "source": [
    "a = lambda x,y:x/y\n",
    "a(2,3)"
   ]
  },
  {
   "cell_type": "code",
   "execution_count": 6,
   "metadata": {},
   "outputs": [
    {
     "data": {
      "text/plain": [
       "-1"
      ]
     },
     "execution_count": 6,
     "metadata": {},
     "output_type": "execute_result"
    }
   ],
   "source": [
    "a = lambda x,y:x-y\n",
    "a(2,3)"
   ]
  },
  {
   "cell_type": "code",
   "execution_count": 12,
   "metadata": {},
   "outputs": [
    {
     "name": "stdout",
     "output_type": "stream",
     "text": [
      "0.6666666666666666\n",
      "-1\n",
      "6\n",
      "5\n"
     ]
    }
   ],
   "source": [
    "def arithmetic_operation(x,y):\n",
    "    a = lambda x,y:x/y\n",
    "    b = lambda x,y:x-y\n",
    "    c = lambda x,y:x*y\n",
    "    d = lambda x,y:x+y\n",
    "    print(a(x,y))\n",
    "    print(b(x,y))\n",
    "    print(c(x,y))\n",
    "    print(d(x,y))\n",
    "arithmetic_operation(2,3)\n"
   ]
  },
  {
   "cell_type": "code",
   "execution_count": 13,
   "metadata": {},
   "outputs": [
    {
     "name": "stdout",
     "output_type": "stream",
     "text": [
      "40 0\n"
     ]
    }
   ],
   "source": [
    "def operation(a,b,s):\n",
    "    r=s(a,b)\n",
    "    return r \n",
    "s = operation(10,30,lambda x,y:x+y)\n",
    "d = operation(0,30,lambda x,y:x*y)\n",
    "print(s,d)"
   ]
  },
  {
   "cell_type": "code",
   "execution_count": 19,
   "metadata": {},
   "outputs": [
    {
     "data": {
      "text/plain": [
       "100"
      ]
     },
     "execution_count": 19,
     "metadata": {},
     "output_type": "execute_result"
    }
   ],
   "source": [
    "#find sum of list elemets in a single line\n",
    "a= [2,1,4,3,8,7,6,59,10]\n",
    "x = sum(list(filter(lambda x: (x),a)))\n",
    "x"
   ]
  },
  {
   "cell_type": "code",
   "execution_count": 21,
   "metadata": {},
   "outputs": [
    {
     "data": {
      "text/plain": [
       "1"
      ]
     },
     "execution_count": 21,
     "metadata": {},
     "output_type": "execute_result"
    }
   ],
   "source": [
    "#find maximum and minimum number in a given list in single line\n",
    "min(a)"
   ]
  },
  {
   "cell_type": "code",
   "execution_count": 23,
   "metadata": {},
   "outputs": [
    {
     "name": "stdout",
     "output_type": "stream",
     "text": [
      "31\n"
     ]
    }
   ],
   "source": [
    "from functools import reduce\n",
    "s = [1,4,3,2,7,6,8]\n",
    "r=reduce(lambda x,y:x+y,s)  #sum\n",
    "print(r)"
   ]
  },
  {
   "cell_type": "code",
   "execution_count": 24,
   "metadata": {},
   "outputs": [
    {
     "name": "stdout",
     "output_type": "stream",
     "text": [
      "120\n"
     ]
    }
   ],
   "source": [
    "#find factorial of number in a single line\n",
    "import math\n",
    "print(math.factorial(5))"
   ]
  },
  {
   "cell_type": "code",
   "execution_count": 2,
   "metadata": {},
   "outputs": [],
   "source": [
    "#priority queue\n",
    "a=[]\n",
    "size = 4\n",
    "top =-1\n",
    "\n",
    "def isEmpty():\n",
    "    return top!=size-1\n",
    "\n",
    "def push(ele):\n",
    "    global top\n",
    "    if isEmpty():\n",
    "        top+=1\n",
    "        a.append(ele)\n",
    "        a.sort()\n",
    "        print(ele, \" is pushedd into the queue\")\n",
    "    else:\n",
    "        print(\"queue overflow\")\n",
    "\n",
    "def pop():\n",
    "    global top\n",
    "    if top == -1:\n",
    "        print(\"queue underflow\") \n",
    "    else:\n",
    "        x=a.pop(0)\n",
    "        top-=1\n",
    "        print(x, \" is poped from the queue\")"
   ]
  },
  {
   "cell_type": "code",
   "execution_count": 3,
   "metadata": {},
   "outputs": [
    {
     "name": "stdout",
     "output_type": "stream",
     "text": [
      "2  is pushedd into the queue\n",
      "8  is pushedd into the queue\n",
      "1  is pushedd into the queue\n",
      "4  is pushedd into the queue\n",
      "queue overflow\n",
      "1  is poped from the queue\n",
      "2  is poped from the queue\n",
      "4  is poped from the queue\n",
      "8  is poped from the queue\n",
      "queue underflow\n"
     ]
    }
   ],
   "source": [
    "while True:\n",
    "    n=input(\"Operation\")\n",
    "    if n=='push':\n",
    "        m=int(input(\"Enter no.\"))\n",
    "        push(m)\n",
    "\n",
    "    elif n=='pop':\n",
    "        pop()\n",
    "\n",
    "    elif n=='display':\n",
    "        print(a)\n",
    "\n",
    "    elif n=='exit':\n",
    "        break\n",
    "\n",
    "    else:\n",
    "        print(\"please enter valid input\")"
   ]
  },
  {
   "cell_type": "code",
   "execution_count": 10,
   "metadata": {},
   "outputs": [
    {
     "name": "stdout",
     "output_type": "stream",
     "text": [
      "key not found\n"
     ]
    }
   ],
   "source": [
    "#Linear search\n",
    "s = [5,4,1,7,19]\n",
    "key = 11\n",
    "for i in range(len(s)-1):\n",
    "    if key == s[i]:\n",
    "        print(\"key found at:\",i)\n",
    "        break\n",
    "else:\n",
    "    print('key not found')\n"
   ]
  },
  {
   "attachments": {},
   "cell_type": "markdown",
   "metadata": {},
   "source": [
    "# binary search"
   ]
  },
  {
   "cell_type": "code",
   "execution_count": 24,
   "metadata": {},
   "outputs": [
    {
     "name": "stdout",
     "output_type": "stream",
     "text": [
      "index of key 5\n"
     ]
    }
   ],
   "source": [
    "\n",
    "def binary(a):\n",
    "    l=0\n",
    "    r = len(a)-1\n",
    "    \n",
    "    while (l <= r):\n",
    "        mid = (l+r)//2\n",
    "\n",
    "        if (a[mid] == key):\n",
    "            print(\"index of key\",mid)\n",
    "            return \n",
    "        \n",
    "        elif (a[mid] < key):\n",
    "            l = mid + 1\n",
    "\n",
    "        elif (a[mid] > key):\n",
    "            r = mid -1\n",
    "    print(\"key not found\")\n",
    "        \n",
    "a= [1,2,3,4,5,6,7,8,9,10]\n",
    "key = 6\n",
    "binary(a)\n",
    "\n",
    "        \n"
   ]
  },
  {
   "cell_type": "code",
   "execution_count": 25,
   "metadata": {},
   "outputs": [
    {
     "name": "stdout",
     "output_type": "stream",
     "text": [
      "The maxHeap is \n",
      "PARENT : 84LEFT CHILD : 22RIGHT CHILD : 19\n",
      "PARENT : 22LEFT CHILD : 17RIGHT CHILD : 10\n",
      "PARENT : 19LEFT CHILD : 5RIGHT CHILD : 6\n",
      "PARENT : 17LEFT CHILD : 3RIGHT CHILD : 9\n",
      "The Max val is 84\n"
     ]
    }
   ],
   "source": [
    "#max heap\n",
    "import sys\n",
    "\n",
    "class MaxHeap:\n",
    "\n",
    "\tdef __init__(self, maxsize):\n",
    "\t\t\n",
    "\t\tself.maxsize = maxsize\n",
    "\t\tself.size = 0\n",
    "\t\tself.Heap = [0] * (self.maxsize + 1)\n",
    "\t\tself.Heap[0] = sys.maxsize\n",
    "\t\tself.FRONT = 1\n",
    "\n",
    "\tdef parent(self, pos):\n",
    "\t\t\n",
    "\t\treturn pos // 2\n",
    "\n",
    "\tdef leftChild(self, pos):\n",
    "\t\t\n",
    "\t\treturn 2 * pos\n",
    "\n",
    "\tdef rightChild(self, pos):\n",
    "\t\t\n",
    "\t\treturn (2 * pos) + 1\n",
    "\n",
    "\tdef isLeaf(self, pos):\n",
    "\t\t\n",
    "\t\tif pos >= (self.size//2) and pos <= self.size:\n",
    "\t\t\treturn True\n",
    "\t\treturn False\n",
    "\n",
    "\tdef swap(self, fpos, spos):\n",
    "\t\t\n",
    "\t\tself.Heap[fpos], self.Heap[spos] = (self.Heap[spos],\n",
    "\t\t\t\t\t\t\t\t\t\t\tself.Heap[fpos])\n",
    "\n",
    "\tdef maxHeapify(self, pos):\n",
    "\n",
    "\t\tif not self.isLeaf(pos):\n",
    "\t\t\tif (self.Heap[pos] < self.Heap[self.leftChild(pos)] or\n",
    "\t\t\t\tself.Heap[pos] < self.Heap[self.rightChild(pos)]):\n",
    "\n",
    "\t\t\t\tif (self.Heap[self.leftChild(pos)] >\n",
    "\t\t\t\t\tself.Heap[self.rightChild(pos)]):\n",
    "\t\t\t\t\tself.swap(pos, self.leftChild(pos))\n",
    "\t\t\t\t\tself.maxHeapify(self.leftChild(pos))\n",
    "\n",
    "\t\t\t\telse:\n",
    "\t\t\t\t\tself.swap(pos, self.rightChild(pos))\n",
    "\t\t\t\t\tself.maxHeapify(self.rightChild(pos))\n",
    "\n",
    "\tdef insert(self, element):\n",
    "\t\t\n",
    "\t\tif self.size >= self.maxsize:\n",
    "\t\t\treturn\n",
    "\t\tself.size += 1\n",
    "\t\tself.Heap[self.size] = element\n",
    "\n",
    "\t\tcurrent = self.size\n",
    "\n",
    "\t\twhile (self.Heap[current] >\n",
    "\t\t\tself.Heap[self.parent(current)]):\n",
    "\t\t\tself.swap(current, self.parent(current))\n",
    "\t\t\tcurrent = self.parent(current)\n",
    "\n",
    "\tdef Print(self):\n",
    "\t\t\n",
    "\t\tfor i in range(1, (self.size // 2) + 1):\n",
    "\t\t\tprint(\"PARENT : \" + str(self.Heap[i]) +\n",
    "\t\t\t\t\"LEFT CHILD : \" + str(self.Heap[2 * i]) +\n",
    "\t\t\t\t\"RIGHT CHILD : \" + str(self.Heap[2 * i + 1]))\n",
    "\n",
    "\tdef extractMax(self):\n",
    "\n",
    "\t\tpopped = self.Heap[self.FRONT]\n",
    "\t\tself.Heap[self.FRONT] = self.Heap[self.size]\n",
    "\t\tself.size -= 1\n",
    "\t\tself.maxHeapify(self.FRONT)\n",
    "\t\t\n",
    "\t\treturn popped\n",
    "\n",
    "if __name__ == \"__main__\":\n",
    "\t\n",
    "\tprint('The maxHeap is ')\n",
    "\t\n",
    "\tmaxHeap = MaxHeap(15)\n",
    "\tmaxHeap.insert(5)\n",
    "\tmaxHeap.insert(3)\n",
    "\tmaxHeap.insert(17)\n",
    "\tmaxHeap.insert(10)\n",
    "\tmaxHeap.insert(84)\n",
    "\tmaxHeap.insert(19)\n",
    "\tmaxHeap.insert(6)\n",
    "\tmaxHeap.insert(22)\n",
    "\tmaxHeap.insert(9)\n",
    "\n",
    "\tmaxHeap.Print()\n",
    "\t\n",
    "\tprint(\"The Max val is \" + str(maxHeap.extractMax()))\n"
   ]
  },
  {
   "cell_type": "code",
   "execution_count": 26,
   "metadata": {},
   "outputs": [],
   "source": [
    "from collections import deque"
   ]
  },
  {
   "cell_type": "code",
   "execution_count": null,
   "metadata": {},
   "outputs": [],
   "source": [
    "'''\n",
    "1.equal\n",
    "stack  ke top ko ans mein add akrege\n",
    "\n",
    "2. prev>curr\n",
    "ans mein current ko add akro\n",
    "'''"
   ]
  },
  {
   "cell_type": "code",
   "execution_count": null,
   "metadata": {},
   "outputs": [],
   "source": [
    "a=\"abc*+\"\n",
    "prio = {'+':0,'-':0,'*':1,'/':1,'^':2}\n",
    "st=deque()\n",
    "for i in a:\n",
    "    if st[-1]!='(' and prio[st[-1]]==prio[i]:\n",
    "        ans+=st.pop()\n",
    "        st.append(i)\n",
    "    elif st[-1]!='(' and prio[st[-1]]>prio[i]:\n",
    "    \n",
    "    elif st[-1]!='(' and prio[st[-1]]<prio[i]:"
   ]
  },
  {
   "cell_type": "code",
   "execution_count": null,
   "metadata": {},
   "outputs": [],
   "source": [
    "\n",
    "\n",
    "\n",
    "\n"
   ]
  }
 ],
 "metadata": {
  "kernelspec": {
   "display_name": "Python 3",
   "language": "python",
   "name": "python3"
  },
  "language_info": {
   "codemirror_mode": {
    "name": "ipython",
    "version": 3
   },
   "file_extension": ".py",
   "mimetype": "text/x-python",
   "name": "python",
   "nbconvert_exporter": "python",
   "pygments_lexer": "ipython3",
   "version": "3.11.2"
  },
  "orig_nbformat": 4
 },
 "nbformat": 4,
 "nbformat_minor": 2
}
