{
 "cells": [
  {
   "cell_type": "code",
   "execution_count": 1,
   "metadata": {},
   "outputs": [
    {
     "name": "stdout",
     "output_type": "stream",
     "text": [
      "Nupur\n"
     ]
    }
   ],
   "source": [
    "print('Nupur')"
   ]
  },
  {
   "cell_type": "code",
   "execution_count": 6,
   "metadata": {},
   "outputs": [
    {
     "name": "stdout",
     "output_type": "stream",
     "text": [
      "10\n",
      "10\n",
      "10 10\n",
      "20 30\n"
     ]
    }
   ],
   "source": [
    "class test:\n",
    "    a = 10\n",
    "    b= 10\n",
    "    def func(self):\n",
    "        print(test.a,test.b)\n",
    "\n",
    "    def update(self):\n",
    "        test.a+=10\n",
    "        test.b+=20\n",
    "\n",
    "t1=test()\n",
    "print(t1.a)\n",
    "print(t1.b)\n",
    "t1.func()\n",
    "t1.update()\n",
    "t1.func()"
   ]
  },
  {
   "cell_type": "code",
   "execution_count": 8,
   "metadata": {},
   "outputs": [
    {
     "name": "stdout",
     "output_type": "stream",
     "text": [
      "10 10\n",
      "20 30\n",
      "20 30\n",
      "30 50\n"
     ]
    }
   ],
   "source": [
    "class test:\n",
    "    a = 10\n",
    "    b= 10\n",
    "    def func(self):\n",
    "        print(test.a,test.b)\n",
    "\n",
    "    def update(self):\n",
    "        test.a+=10\n",
    "        test.b+=20\n",
    "obj1=test()\n",
    "obj1.func()# 10 10\n",
    "obj1.update()\n",
    "obj1.func()# 20 40\n",
    "\n",
    "obj2=test()\n",
    "obj2.func()#20 40\n",
    "obj2.update()\n",
    "obj2.func()# 30 60"
   ]
  },
  {
   "attachments": {},
   "cell_type": "markdown",
   "metadata": {},
   "source": [
    "## nonn static variable\n"
   ]
  },
  {
   "cell_type": "code",
   "execution_count": 16,
   "metadata": {},
   "outputs": [
    {
     "name": "stdout",
     "output_type": "stream",
     "text": [
      "20 40\n",
      "10 20\n",
      "20 40\n"
     ]
    }
   ],
   "source": [
    "class test:\n",
    "    def func(self):\n",
    "        self.a= 10\n",
    "        self.b= 20\n",
    "\n",
    "    def display(self):\n",
    "        print(self.a,self.b)\n",
    "    def update(self):\n",
    "        self.a+=10\n",
    "        self.b+=20\n",
    "\n",
    "obj1=test()\n",
    "obj1.func()\n",
    "obj1.update()\n",
    "obj1.display()\n",
    "\n",
    "\n",
    "obj2=test()\n",
    "obj2.func()\n",
    "obj2.display()\n",
    "obj2.update()\n",
    "obj2.display()\n"
   ]
  },
  {
   "cell_type": "code",
   "execution_count": 24,
   "metadata": {},
   "outputs": [
    {
     "name": "stdout",
     "output_type": "stream",
     "text": [
      "Hey Nupur\n",
      "1100 2200\n",
      "Hey Nupur\n",
      "1100 2200\n"
     ]
    }
   ],
   "source": [
    "## constructor\n",
    "class Anurag:\n",
    "    def __init__(self):\n",
    "        self.a = 1000\n",
    "        self.b = 2000\n",
    "        print(\"Hey Nupur\")\n",
    "    def ml(self):\n",
    "        self.a+=100\n",
    "        self.b+=200\n",
    "\n",
    "    def display(self):\n",
    "        print(self.a,self.b)\n",
    "\n",
    "t1=Anurag()\n",
    "t1.ml()\n",
    "t1.display()\n",
    "t2=Anurag()\n",
    "t2.ml()\n",
    "t2.display()"
   ]
  },
  {
   "cell_type": "code",
   "execution_count": 27,
   "metadata": {},
   "outputs": [
    {
     "name": "stdout",
     "output_type": "stream",
     "text": [
      "110 220\n",
      "120 230\n"
     ]
    }
   ],
   "source": [
    "#parameterized cons\n",
    "class nupur:\n",
    "    def __init__(self,a,b):\n",
    "        self.a=a\n",
    "        self.b=b\n",
    "\n",
    "    def ml(self):\n",
    "        self.a+=100\n",
    "        self.b+=200\n",
    "\n",
    "    def display(self):\n",
    "        print(self.a,self.b)\n",
    "\n",
    "t1=nupur(10,20)\n",
    "t1.ml()\n",
    "t1.display()\n",
    "t2=nupur(20,30)\n",
    "t2.ml()\n",
    "t2.display()\n",
    "    "
   ]
  },
  {
   "cell_type": "code",
   "execution_count": 2,
   "metadata": {},
   "outputs": [
    {
     "name": "stdout",
     "output_type": "stream",
     "text": [
      "Anurag UP 12345 SBI\n",
      "200000\n"
     ]
    }
   ],
   "source": [
    "class nupur:\n",
    "    bank_name= \"SBI\"\n",
    "    def __init__(self, name,add,acc):\n",
    "        self.name = name \n",
    "        self.add = add\n",
    "        self.acc = acc\n",
    "\n",
    "    def display(self):\n",
    "        print(self.name,self.add,self.acc, nupur.bank_name)\n",
    "\n",
    "    def show_amount(self):\n",
    "        self.amount = 200000\n",
    "\n",
    "    def print_amount(self):\n",
    "        print(self.amount)\n",
    "\n",
    "t1=nupur(\"Anurag\", 'UP', 12345)\n",
    "t1.display()\n",
    "t1.show_amount()\n",
    "t1.print_amount()"
   ]
  },
  {
   "cell_type": "code",
   "execution_count": 5,
   "metadata": {},
   "outputs": [
    {
     "ename": "AttributeError",
     "evalue": "'Node' object has no attribute 'head'",
     "output_type": "error",
     "traceback": [
      "\u001b[1;31m---------------------------------------------------------------------------\u001b[0m",
      "\u001b[1;31mAttributeError\u001b[0m                            Traceback (most recent call last)",
      "\u001b[1;32m~\\AppData\\Local\\Temp\\ipykernel_9384\\1377990282.py\u001b[0m in \u001b[0;36m<module>\u001b[1;34m\u001b[0m\n\u001b[0;32m     50\u001b[0m \u001b[1;31m# Use the insert method to add nodes\u001b[0m\u001b[1;33m\u001b[0m\u001b[1;33m\u001b[0m\u001b[1;33m\u001b[0m\u001b[0m\n\u001b[0;32m     51\u001b[0m \u001b[0mroot\u001b[0m \u001b[1;33m=\u001b[0m \u001b[0mNode\u001b[0m\u001b[1;33m(\u001b[0m\u001b[1;33m)\u001b[0m\u001b[1;33m\u001b[0m\u001b[1;33m\u001b[0m\u001b[0m\n\u001b[1;32m---> 52\u001b[1;33m \u001b[0mroot\u001b[0m\u001b[1;33m.\u001b[0m\u001b[0minsert\u001b[0m\u001b[1;33m(\u001b[0m\u001b[1;36m6\u001b[0m\u001b[1;33m)\u001b[0m\u001b[1;33m\u001b[0m\u001b[1;33m\u001b[0m\u001b[0m\n\u001b[0m\u001b[0;32m     53\u001b[0m \u001b[0mroot\u001b[0m\u001b[1;33m.\u001b[0m\u001b[0minsert\u001b[0m\u001b[1;33m(\u001b[0m\u001b[1;36m14\u001b[0m\u001b[1;33m)\u001b[0m\u001b[1;33m\u001b[0m\u001b[1;33m\u001b[0m\u001b[0m\n\u001b[0;32m     54\u001b[0m \u001b[0mroot\u001b[0m\u001b[1;33m.\u001b[0m\u001b[0minsert\u001b[0m\u001b[1;33m(\u001b[0m\u001b[1;36m3\u001b[0m\u001b[1;33m)\u001b[0m\u001b[1;33m\u001b[0m\u001b[1;33m\u001b[0m\u001b[0m\n",
      "\u001b[1;32m~\\AppData\\Local\\Temp\\ipykernel_9384\\1377990282.py\u001b[0m in \u001b[0;36minsert\u001b[1;34m(self, data)\u001b[0m\n\u001b[0;32m      6\u001b[0m \u001b[1;33m\u001b[0m\u001b[0m\n\u001b[0;32m      7\u001b[0m    \u001b[1;32mdef\u001b[0m \u001b[0minsert\u001b[0m\u001b[1;33m(\u001b[0m\u001b[0mself\u001b[0m\u001b[1;33m,\u001b[0m \u001b[0mdata\u001b[0m\u001b[1;33m)\u001b[0m\u001b[1;33m:\u001b[0m\u001b[1;33m\u001b[0m\u001b[1;33m\u001b[0m\u001b[0m\n\u001b[1;32m----> 8\u001b[1;33m       \u001b[1;32mif\u001b[0m \u001b[0mself\u001b[0m\u001b[1;33m.\u001b[0m\u001b[0mhead\u001b[0m\u001b[1;33m:\u001b[0m\u001b[1;33m\u001b[0m\u001b[1;33m\u001b[0m\u001b[0m\n\u001b[0m\u001b[0;32m      9\u001b[0m          \u001b[1;32mif\u001b[0m \u001b[0mdata\u001b[0m \u001b[1;33m<\u001b[0m \u001b[0mself\u001b[0m\u001b[1;33m.\u001b[0m\u001b[0mdata\u001b[0m\u001b[1;33m:\u001b[0m\u001b[1;33m\u001b[0m\u001b[1;33m\u001b[0m\u001b[0m\n\u001b[0;32m     10\u001b[0m             \u001b[1;32mif\u001b[0m \u001b[0mself\u001b[0m\u001b[1;33m.\u001b[0m\u001b[0mleft\u001b[0m \u001b[1;32mis\u001b[0m \u001b[1;32mNone\u001b[0m\u001b[1;33m:\u001b[0m\u001b[1;33m\u001b[0m\u001b[1;33m\u001b[0m\u001b[0m\n",
      "\u001b[1;31mAttributeError\u001b[0m: 'Node' object has no attribute 'head'"
     ]
    }
   ],
   "source": [
    "class Node:\n",
    "   def _init_(self, data):\n",
    "      self.left = None\n",
    "      self.right = None\n",
    "      self.data = data\n",
    "\n",
    "   def insert(self, data):\n",
    "      if self.data:\n",
    "         if data < self.data:\n",
    "            if self.left is None:\n",
    "               self.left = Node(data)\n",
    "            else:\n",
    "               self.left.insert(data)\n",
    "         elif data > self.data:\n",
    "               if self.right is None:\n",
    "                  self.right = Node(data)\n",
    "               else:\n",
    "                  self.right.insert(data)\n",
    "      else:\n",
    "         self.data = data\n",
    "\n",
    "def PrintInoder(root):\n",
    "    if root:\n",
    "       PrintInoder(root.left)\n",
    "       print(root.data, end = ' ')\n",
    "       PrintInoder(root.right)\n",
    "\n",
    "def PrintPostorder(root):\n",
    "   if root:\n",
    "      PrintPostorder(root.left)\n",
    "      PrintPostorder(root.right)\n",
    "      print(root.data, end = ' ')\n",
    "\n",
    "\n",
    "def PrintPreorder(root):\n",
    "   if root:\n",
    "      print(root.data, end = ' ')\n",
    "      PrintPreorder(root.left)\n",
    "      PrintPreorder(root.right)\n",
    "\n",
    "def bst(root):\n",
    "   if root == None:\n",
    "      return -1\n",
    "   else:\n",
    "      return max(bst(root.left), bst(root.right))+1\n",
    "\n",
    "      \n",
    "\n",
    "\n",
    "# Use the insert method to add nodes\n",
    "root = Node()\n",
    "root.insert(6)\n",
    "root.insert(14)\n",
    "root.insert(3)\n",
    "print(\"In order\")\n",
    "PrintInoder(root)\n",
    "print()\n",
    "print(\"post order\")\n",
    "PrintPostorder(root)\n",
    "print()\n",
    "print(\"pre order\")\n",
    "PrintPreorder(root)\n",
    "bst(root)"
   ]
  },
  {
   "cell_type": "code",
   "execution_count": 46,
   "metadata": {},
   "outputs": [
    {
     "name": "stdout",
     "output_type": "stream",
     "text": [
      "4\n",
      "10\n",
      "Sum of left leaves is: 14\n"
     ]
    }
   ],
   "source": [
    "class Node:\n",
    "  def __init__(self,key):\n",
    "    self.key=key\n",
    "    self.left=None\n",
    "    self.right=None\n",
    "def leftLeavesSumRec(root, isLeft, summ):\n",
    "    if root is None:\n",
    "        return\n",
    "    if root.left is None and root.right is None and isLeft == True:\n",
    "        print(root.key)\n",
    "        summ[0]+=root.key\n",
    "    leftLeavesSumRec(root.left,1,summ)\n",
    "    leftLeavesSumRec(root.right,0,summ)\n",
    "def leftLeavesSum(root):\n",
    "  summ=[0]\n",
    "  leftLeavesSumRec(root,0,summ)\n",
    "  return summ[0]\n",
    "\n",
    "\n",
    "root=Node(20)\n",
    "root.left=Node(8)\n",
    "root.right=Node(22)\n",
    "root.left.left=Node(4)\n",
    "root.left.right=Node(12)\n",
    "root.left.right.left=Node(10)\n",
    "root.left.right.right=Node(14)\n",
    "print(\"Sum of left leaves is:\",leftLeavesSum(root))"
   ]
  },
  {
   "cell_type": "code",
   "execution_count": 44,
   "metadata": {},
   "outputs": [],
   "source": [
    "class Node:\n",
    "    def __init__(self,key):\n",
    "        self.key=key\n",
    "        self.left=None\n",
    "        self.right=None\n",
    "\n",
    "\n",
    "root=Node(20)\n",
    "root.left=Node(8)\n",
    "root.right=Node(22)\n",
    "root.left.left=Node(4)\n",
    "root.left.right=Node(12)\n",
    "root.left.right.left=Node(10)\n",
    "root.left.right.right=Node(14)"
   ]
  },
  {
   "cell_type": "code",
   "execution_count": null,
   "metadata": {},
   "outputs": [],
   "source": []
  }
 ],
 "metadata": {
  "kernelspec": {
   "display_name": "Python 3",
   "language": "python",
   "name": "python3"
  },
  "language_info": {
   "codemirror_mode": {
    "name": "ipython",
    "version": 3
   },
   "file_extension": ".py",
   "mimetype": "text/x-python",
   "name": "python",
   "nbconvert_exporter": "python",
   "pygments_lexer": "ipython3",
   "version": "3.8.10"
  },
  "orig_nbformat": 4
 },
 "nbformat": 4,
 "nbformat_minor": 2
}
