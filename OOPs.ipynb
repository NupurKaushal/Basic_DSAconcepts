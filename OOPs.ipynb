{
 "cells": [
  {
   "attachments": {},
   "cell_type": "markdown",
   "metadata": {},
   "source": [
    "## Static variables"
   ]
  },
  {
   "cell_type": "code",
   "execution_count": 5,
   "metadata": {},
   "outputs": [
    {
     "name": "stdout",
     "output_type": "stream",
     "text": [
      "10 20\n",
      "20 40\n",
      "20 40\n",
      "30 60\n"
     ]
    }
   ],
   "source": [
    "class Test:\n",
    "    a=10\n",
    "    b=20\n",
    "    def display(self):\n",
    "        print(Test.a,Test.b)\n",
    "    \n",
    "    def update(self):\n",
    "        Test.a+=10\n",
    "        Test.b+=20\n",
    "\n",
    "obj1=Test()\n",
    "obj1.display()\n",
    "obj1.update()\n",
    "obj1.display()\n",
    "\n",
    "obj2=Test()\n",
    "obj2.display()\n",
    "obj2.update()\n",
    "obj2.display()"
   ]
  },
  {
   "attachments": {},
   "cell_type": "markdown",
   "metadata": {},
   "source": [
    "## Non static Variable"
   ]
  },
  {
   "cell_type": "code",
   "execution_count": 6,
   "metadata": {},
   "outputs": [
    {
     "name": "stdout",
     "output_type": "stream",
     "text": [
      "10 20\n",
      "40 20\n",
      "10 20\n",
      "40 20\n"
     ]
    }
   ],
   "source": [
    "class Test:\n",
    "    def initaite(self):\n",
    "        self.a=10\n",
    "        self.b=20\n",
    "    def display(self):\n",
    "        print(self.a,self.b)\n",
    "    \n",
    "    def update(self):\n",
    "        self.a+=10\n",
    "        self.a+=20\n",
    "\n",
    "\n",
    "obj1=Test()\n",
    "obj1.initaite()\n",
    "obj1.display()\n",
    "obj1.update()\n",
    "obj1.display()\n",
    "\n",
    "obj2=Test()\n",
    "obj2.initaite()\n",
    "obj2.display()\n",
    "obj2.update()\n",
    "obj2.display()\n",
    "\n",
    "#### in non static varriables, if any modefication happens on first obj, then it will not happens on  the second obj"
   ]
  },
  {
   "attachments": {},
   "cell_type": "markdown",
   "metadata": {},
   "source": [
    "## Constructor"
   ]
  },
  {
   "cell_type": "code",
   "execution_count": 8,
   "metadata": {},
   "outputs": [
    {
     "name": "stdout",
     "output_type": "stream",
     "text": [
      "10 20\n",
      "10 20\n"
     ]
    }
   ],
   "source": [
    "# Default Constructor\n",
    "class Test:\n",
    "    def __init__(self):\n",
    "        self.a=10\n",
    "        self.b=20\n",
    "    \n",
    "    def display(self):\n",
    "        print(self.a,self.b)\n",
    "\n",
    "obj1=Test()\n",
    "obj1.display()\n",
    "\n",
    "obj2=Test()\n",
    "obj2.display()"
   ]
  },
  {
   "cell_type": "code",
   "execution_count": 9,
   "metadata": {},
   "outputs": [
    {
     "name": "stdout",
     "output_type": "stream",
     "text": [
      "10 20\n",
      "100 200\n"
     ]
    }
   ],
   "source": [
    "# Parametrazied Constructor\n",
    "class Test:\n",
    "    def __init__(self,a,b):\n",
    "        self.a=a\n",
    "        self.b=b\n",
    "    \n",
    "    def display(self):\n",
    "        print(self.a,self.b)\n",
    "\n",
    "\n",
    "obj1=Test(10,20)\n",
    "obj1.display()\n",
    "\n",
    "obj2=Test(100,200)\n",
    "obj2.display()"
   ]
  },
  {
   "cell_type": "code",
   "execution_count": 14,
   "metadata": {},
   "outputs": [
    {
     "name": "stdout",
     "output_type": "stream",
     "text": [
      "yes you can withdraw and left amount is 10000\n",
      "Your current balance is 10000\n",
      "no you cannot withdraw\n",
      "Your current balance is 110\n"
     ]
    }
   ],
   "source": [
    "class Bank:\n",
    "    mini=1000\n",
    "    def __init__(self,balance):\n",
    "        self.balance=balance\n",
    "    \n",
    "    def deposit(self,amount):\n",
    "        self.balance+=amount\n",
    "\n",
    "    def withdraw(self, withdraw_amount):\n",
    "        if self.balance>Bank.mini:\n",
    "            self.balance-=withdraw_amount\n",
    "            print(f\"yes you can withdraw and left amount is {self.balance}\")\n",
    "        else:\n",
    "            print(\"no you cannot withdraw\")\n",
    "    \n",
    "    def show_balance(self):\n",
    "        print(f\"Your current balance is {self.balance}\")\n",
    "\n",
    "\n",
    "obj1=Bank(10000)\n",
    "obj1.deposit(1000)\n",
    "obj1.withdraw(1000)\n",
    "obj1.show_balance()\n",
    "\n",
    "obj2=Bank(100)\n",
    "obj2.deposit(10)\n",
    "obj2.withdraw(1000)\n",
    "obj2.show_balance()"
   ]
  },
  {
   "attachments": {},
   "cell_type": "markdown",
   "metadata": {},
   "source": [
    "## wap to find the sum of leafs in a tree"
   ]
  },
  {
   "cell_type": "code",
   "execution_count": 5,
   "metadata": {},
   "outputs": [
    {
     "name": "stdout",
     "output_type": "stream",
     "text": [
      "22\n",
      "10\n",
      "12\n"
     ]
    }
   ],
   "source": [
    "class Node:\n",
    "   def __init__(self, data):\n",
    "      self.left = None\n",
    "      self.right = None\n",
    "      self.data = data\n",
    "\n",
    "root=Node(1)\n",
    "root.left=Node(2)\n",
    "root.right=Node(3)\n",
    "root.left.left=Node(4)\n",
    "root.left.right=Node(5)\n",
    "root.right.left=Node(6)\n",
    "root.right.right=Node(7)\n",
    "\n",
    "def leafSum(root):\n",
    "    if root==None:\n",
    "        return 0\n",
    "   \n",
    "    if root.left==None and root.right==None:\n",
    "        return root.data\n",
    "      \n",
    "    return leafSum(root.left) + leafSum(root.right)\n",
    "\n",
    "def leftLeafSum(root,isLeft):\n",
    "    if root==None:\n",
    "        return 0\n",
    "   \n",
    "    if root.left==None and root.right==None and isLeft:\n",
    "        return root.data\n",
    "      \n",
    "    return leftLeafSum(root.left,True) + leftLeafSum(root.right,False)\n",
    "\n",
    "def rightLeafSum(root,isLeft):\n",
    "    if root==None:\n",
    "        return 0\n",
    "   \n",
    "    if root.left==None and root.right==None and isLeft:\n",
    "        return root.data\n",
    "      \n",
    "    return rightLeafSum(root.left,False) + rightLeafSum(root.right,True)\n",
    "print(leafSum(root))\n",
    "print(leftLeafSum(root,False))\n",
    "print(rightLeafSum(root,False))"
   ]
  },
  {
   "cell_type": "code",
   "execution_count": null,
   "metadata": {},
   "outputs": [],
   "source": [
    "n=145\n",
    "copy=n\n",
    "def fact(n):\n",
    "    if n==1:\n",
    "        return 1\n",
    "    return n*fact(n-1)\n",
    "sum=0\n",
    "while n!=0:\n",
    "    dig=n%10\n",
    "    sum+=fact(dig)\n"
   ]
  },
  {
   "cell_type": "code",
   "execution_count": 1,
   "metadata": {},
   "outputs": [
    {
     "name": "stdout",
     "output_type": "stream",
     "text": [
      "in m3\n",
      "4000\n",
      "3000\n",
      "1000\n",
      "in m2:\n",
      "2000\n"
     ]
    }
   ],
   "source": [
    "#has relation\n",
    "class x:\n",
    "    a = 1000\n",
    "    def m1(self):\n",
    "        self.b= 2000\n",
    "    def m2(self):\n",
    "        print(\"in m2:\")\n",
    "\n",
    "class y:\n",
    "    c = 3000\n",
    "    def m2(self):\n",
    "        self.d=4000\n",
    "    def m3(self):\n",
    "        print(\"in m3\")\n",
    "    def display(self):\n",
    "        self.m3()\n",
    "        self.m2()\n",
    "        print(self.d)\n",
    "        print(y.c)\n",
    "        x1=x()\n",
    "        print(x1.a)\n",
    "        x1.m1()\n",
    "        x1.m2()\n",
    "        print(x1.b)\n",
    "y1=y()\n",
    "y1.display()"
   ]
  },
  {
   "cell_type": "code",
   "execution_count": 3,
   "metadata": {},
   "outputs": [
    {
     "name": "stdout",
     "output_type": "stream",
     "text": [
      "in m3\n",
      "4000\n",
      "3000\n",
      "2000\n",
      "1000\n"
     ]
    }
   ],
   "source": [
    "#inheritance\n",
    "class x:\n",
    "    a = 1000\n",
    "    def m1(self):\n",
    "        self.b= 2000\n",
    "    def m2(self):\n",
    "        print(\"in m2:\")\n",
    "\n",
    "class y(x):\n",
    "    c = 3000\n",
    "    def m2(self):\n",
    "        self.d=4000\n",
    "    def m3(self):\n",
    "        print(\"in m3\")\n",
    "    def display(self):\n",
    "        self.m3()\n",
    "        self.m2()\n",
    "        print(self.d)\n",
    "        print(y.c)\n",
    "        self.m1() #inherit\n",
    "        self.m2()\n",
    "        print(self.b)\n",
    "        print(x.a)\n",
    "\n",
    "y1=y()\n",
    "y1.display()"
   ]
  },
  {
   "cell_type": "code",
   "execution_count": 10,
   "metadata": {},
   "outputs": [
    {
     "name": "stdout",
     "output_type": "stream",
     "text": [
      "in m2:\n",
      "2000\n",
      "1000\n",
      "in m3\n",
      "3000\n",
      "4000\n"
     ]
    }
   ],
   "source": [
    "#excess x and y prop in main program\n",
    "class y:\n",
    "    c = 3000\n",
    "    def m4(self):\n",
    "        self.d=4000\n",
    "    def m3(self):\n",
    "        print(\"in m3\")\n",
    "\n",
    "\n",
    "\n",
    "class x(y):\n",
    "    a = 1000\n",
    "    def m1(self):\n",
    "        self.b= 2000\n",
    "    def m2(self):\n",
    "        print(\"in m2:\")\n",
    "    def display(self):\n",
    "        self.m1()\n",
    "        self.m2()\n",
    "        print(self.b)\n",
    "        print(x.a)\n",
    "\n",
    "        self.m4()\n",
    "        self.m3()\n",
    "        print(self.c)\n",
    "        print(self.d)\n",
    "\n",
    "\n",
    "\n",
    "\n",
    "\n",
    "x1=x()\n",
    "x1.display()"
   ]
  },
  {
   "cell_type": "code",
   "execution_count": 13,
   "metadata": {},
   "outputs": [
    {
     "name": "stdout",
     "output_type": "stream",
     "text": [
      "3000\n",
      "4000\n",
      "1000\n",
      "2000\n"
     ]
    }
   ],
   "source": [
    "class y:\n",
    "    c = 3000\n",
    "    def m4(self):\n",
    "        self.d=4000\n",
    "    def m3(self):\n",
    "        print(\"in m3\")\n",
    "\n",
    "\n",
    "\n",
    "class x(y):\n",
    "    a = 1000\n",
    "    def m1(self):\n",
    "        self.b= 2000\n",
    "    def m2(self):\n",
    "        print(\"in m2:\")\n",
    "    def display(self):\n",
    "        self.m1()\n",
    "        self.m2()\n",
    "        print(self.b)\n",
    "        print(x.a)\n",
    "\n",
    "x1=x()\n",
    "print(y.c)\n",
    "x1.m4()\n",
    "print(x1.d) ##print(y.d)\n",
    "print(x1.a)\n",
    "x1.m1()\n",
    "print(x1.b)\n",
    "\n"
   ]
  },
  {
   "cell_type": "code",
   "execution_count": 16,
   "metadata": {},
   "outputs": [
    {
     "name": "stdout",
     "output_type": "stream",
     "text": [
      "in m3\n",
      "nupur\n",
      "in m2:\n"
     ]
    }
   ],
   "source": [
    "#polymorphism : method overriding\n",
    "class x: #obj is super class for x\n",
    "    a = 1000\n",
    "    def m1(self):\n",
    "        self.b= 2000\n",
    "    def m2(self):\n",
    "        print(\"in m2:\")\n",
    "\n",
    "class y(x):\n",
    "    c = 3000\n",
    "    def m2(self):  #method overriding    priority given to sub class\n",
    "        print('nupur') \n",
    "        super().m2() #also excess super class\n",
    "    def m3(self):\n",
    "        print(\"in m3\")\n",
    "\n",
    "y1 =y()\n",
    "y1.m3()\n",
    "y1.m1()\n",
    "y1.m2()\n"
   ]
  },
  {
   "cell_type": "code",
   "execution_count": 17,
   "metadata": {},
   "outputs": [
    {
     "name": "stdout",
     "output_type": "stream",
     "text": [
      "(<class '__main__.x'>,)\n",
      "(<class 'object'>,)\n"
     ]
    }
   ],
   "source": [
    "#print super class\n",
    "class x:\n",
    "    def m1(self):\n",
    "        print(\"m1:\")\n",
    "class y(x):\n",
    "    def m2(self):\n",
    "        print(\"m2:\")\n",
    "print(y.__bases__) #super class for y\n",
    "print(x.__bases__) #super class for x"
   ]
  },
  {
   "cell_type": "code",
   "execution_count": 40,
   "metadata": {},
   "outputs": [
    {
     "data": {
      "text/plain": [
       "'0b1110'"
      ]
     },
     "execution_count": 40,
     "metadata": {},
     "output_type": "execute_result"
    }
   ],
   "source": [
    "#bitwise operator\n",
    "a=12\n",
    "b=14\n",
    "a|b\n",
    "bin(14)"
   ]
  },
  {
   "cell_type": "code",
   "execution_count": 19,
   "metadata": {},
   "outputs": [
    {
     "name": "stdout",
     "output_type": "stream",
     "text": [
      "7\n",
      "5\n"
     ]
    }
   ],
   "source": [
    "#swap a and b values using bitwise\n",
    "a=5\n",
    "b=7\n",
    "a=a^b\n",
    "b=a^b\n",
    "a=a^b\n",
    "print(a)\n",
    "print(b)"
   ]
  },
  {
   "cell_type": "code",
   "execution_count": 20,
   "metadata": {},
   "outputs": [
    {
     "name": "stdout",
     "output_type": "stream",
     "text": [
      "5\n",
      "10\n"
     ]
    }
   ],
   "source": [
    "#swap a and b values without using 3rd var\n",
    "a= 10\n",
    "b=5\n",
    "a,b = b,a\n",
    "print(a)\n",
    "print(b)"
   ]
  },
  {
   "cell_type": "code",
   "execution_count": 36,
   "metadata": {},
   "outputs": [
    {
     "name": "stdout",
     "output_type": "stream",
     "text": [
      "0b111\n",
      "3\n"
     ]
    }
   ],
   "source": [
    "#count no. of 1s of 7 in bin format\n",
    "a=7\n",
    "b=bin(int(a))\n",
    "print(b)\n",
    "count =0\n",
    "for i in range(len(b)):\n",
    "    if b[i]==\"1\":\n",
    "        count +=1\n",
    "print(count)\n"
   ]
  },
  {
   "cell_type": "code",
   "execution_count": 39,
   "metadata": {},
   "outputs": [
    {
     "name": "stdout",
     "output_type": "stream",
     "text": [
      "3\n"
     ]
    }
   ],
   "source": [
    "#count no. of 1s\n",
    "a= 14\n",
    "c=0\n",
    "while(a):\n",
    "    a= a & (a-1)\n",
    "    c +=1\n",
    "print(c)\n"
   ]
  },
  {
   "cell_type": "code",
   "execution_count": 42,
   "metadata": {},
   "outputs": [
    {
     "data": {
      "text/plain": [
       "'0b1100'"
      ]
     },
     "execution_count": 42,
     "metadata": {},
     "output_type": "execute_result"
    }
   ],
   "source": [
    "bin(12)"
   ]
  },
  {
   "cell_type": "code",
   "execution_count": 52,
   "metadata": {},
   "outputs": [
    {
     "name": "stdout",
     "output_type": "stream",
     "text": [
      "0b1100\n",
      "true\n"
     ]
    }
   ],
   "source": [
    "#find the binary equivalent value of 12 and check 1st bit position is 1 or 0\n",
    "a=12\n",
    "i =2\n",
    "b=bin(a)\n",
    "print(b)\n",
    "if (a & (1<<i)):\n",
    "    print(\"true\")\n",
    "else:\n",
    "    print(\"false\")\n"
   ]
  },
  {
   "cell_type": "code",
   "execution_count": 53,
   "metadata": {},
   "outputs": [
    {
     "data": {
      "text/plain": [
       "-6"
      ]
     },
     "execution_count": 53,
     "metadata": {},
     "output_type": "execute_result"
    }
   ],
   "source": [
    "#find 1s complement and 2s complement of a given number\n",
    "x =5\n",
    "~x"
   ]
  },
  {
   "cell_type": "code",
   "execution_count": 58,
   "metadata": {},
   "outputs": [
    {
     "data": {
      "text/plain": [
       "False"
      ]
     },
     "execution_count": 58,
     "metadata": {},
     "output_type": "execute_result"
    }
   ],
   "source": [
    "#check given no. is power of 2 or not\n",
    "def isPowerof(x):\n",
    "    if (x==0):\n",
    "        return False\n",
    "    else:\n",
    "        while (x!=1):\n",
    "            x=x/2\n",
    "            if (x%2!=0 and x!=1):\n",
    "                return False\n",
    "    return True\n",
    "\n",
    "isPowerof(512)\n",
    "isPowerof(9)"
   ]
  },
  {
   "cell_type": "code",
   "execution_count": null,
   "metadata": {},
   "outputs": [],
   "source": []
  }
 ],
 "metadata": {
  "kernelspec": {
   "display_name": "Python 3",
   "language": "python",
   "name": "python3"
  },
  "language_info": {
   "codemirror_mode": {
    "name": "ipython",
    "version": 3
   },
   "file_extension": ".py",
   "mimetype": "text/x-python",
   "name": "python",
   "nbconvert_exporter": "python",
   "pygments_lexer": "ipython3",
   "version": "3.11.2"
  },
  "orig_nbformat": 4
 },
 "nbformat": 4,
 "nbformat_minor": 2
}
